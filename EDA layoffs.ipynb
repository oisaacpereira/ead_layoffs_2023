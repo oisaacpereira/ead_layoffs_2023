{
 "cells": [
  {
   "cell_type": "markdown",
   "id": "29f48569",
   "metadata": {},
   "source": [
    "---\n"
   ]
  },
  {
   "cell_type": "markdown",
   "id": "905d6c2d",
   "metadata": {},
   "source": [
    "## Contexto Análise explorátoria  \n",
    "\n",
    "O intuíto dessa análise é extrair insights sobre o grande volume de demissões em massa em grandes empresas de tecnologia e serviços, que estão apreensivos sobre a desaceleração econômica pós covid e possivelmente uma recessão, uma vez que, a diminuição dos gastos do consumidor por conta de uma taxa de juros alta para conter a inflação, assombra a demanda dessas empresas.\n",
    "\n",
    "Está análise também visa demonstrar alguns métodos e técnicas usadas para gerar insights.\n",
    "\n",
    "Principais questionamentos sobre as ondas de demissões:\n",
    "\n",
    "1. Evolução de demissões desde o COVID-19\n",
    "2. Principais países impactados com número de demissões\n",
    "3. A empresas que mais demitiram \n",
    "4. Os setores mais impactados com demissões\n",
    "5. Visão no Brasil: quais estados, empresas e setores mais demitiram\n"
   ]
  },
  {
   "cell_type": "markdown",
   "id": "72c4a4a3",
   "metadata": {},
   "source": [
    "---"
   ]
  },
  {
   "cell_type": "markdown",
   "id": "8cfdbda6",
   "metadata": {},
   "source": [
    "### **Divisão do Ciclo de Análise**\n",
    "\n",
    "1. Coleta de Dados e Visão geral \n",
    "2. Limpeza e tratamento dos dados\n",
    "3. Análise e ordenação das colunas de interesse\n",
    "4. Exploração dos dados"
   ]
  },
  {
   "cell_type": "markdown",
   "id": "368f3166",
   "metadata": {},
   "source": [
    "---"
   ]
  },
  {
   "cell_type": "markdown",
   "id": "7e45985b",
   "metadata": {},
   "source": [
    "> **Leitura e visão geral do dataframe**\n",
    "\n",
    " Leitura do arquivo disponibilizado no Kaggle em csv da base de dados do site https://layoffs.fyi/ até a data 06/03/2023.\n",
    "\n",
    "**Visão geral:**\n",
    "\n",
    "- **Estrutura dos Dados:** Os dados estão distribuidos respectivamente por: Empresa, Cidade/Região, Setor, Total de demitidos, Porcentagem demitidos, data, pós/pré IPO, País, Fundo Arrecado.\n",
    "    \n",
    "    \n",
    "- **Dados faltantes e tipo alterados:** Podemos notar a presença de valores ausentes, uma hipotese pláusivel seria por conta da coleta oriunda de webscraping pelo site Lay offs, de sites de notícias sem dados de demissão, somente com a informação de possíveis demissões futuras ou afins. Também podemos ver a disparidade do tipo do dado, como na coluna date que se encontra como object não como date de data."
   ]
  },
  {
   "cell_type": "code",
   "execution_count": 44,
   "id": "2d542b8b",
   "metadata": {},
   "outputs": [],
   "source": [
    "import pandas as pd\n",
    "import seaborn as sns\n",
    "import matplotlib.pyplot as plt"
   ]
  },
  {
   "cell_type": "code",
   "execution_count": 45,
   "id": "97c51832",
   "metadata": {},
   "outputs": [],
   "source": [
    "file = pd.read_csv('layoffs.csv')"
   ]
  },
  {
   "cell_type": "code",
   "execution_count": 46,
   "id": "450a606e",
   "metadata": {},
   "outputs": [],
   "source": [
    "df_raw = file"
   ]
  },
  {
   "cell_type": "code",
   "execution_count": 47,
   "id": "71f63bb6",
   "metadata": {},
   "outputs": [
    {
     "data": {
      "text/plain": [
       "(2357, 9)"
      ]
     },
     "execution_count": 47,
     "metadata": {},
     "output_type": "execute_result"
    }
   ],
   "source": [
    "# Tamanho do dataframe: linhas, colunas\n",
    "df_raw.shape"
   ]
  },
  {
   "cell_type": "code",
   "execution_count": 48,
   "id": "b61326ca",
   "metadata": {},
   "outputs": [
    {
     "data": {
      "text/html": [
       "<div>\n",
       "<style scoped>\n",
       "    .dataframe tbody tr th:only-of-type {\n",
       "        vertical-align: middle;\n",
       "    }\n",
       "\n",
       "    .dataframe tbody tr th {\n",
       "        vertical-align: top;\n",
       "    }\n",
       "\n",
       "    .dataframe thead th {\n",
       "        text-align: right;\n",
       "    }\n",
       "</style>\n",
       "<table border=\"1\" class=\"dataframe\">\n",
       "  <thead>\n",
       "    <tr style=\"text-align: right;\">\n",
       "      <th></th>\n",
       "      <th>company</th>\n",
       "      <th>location</th>\n",
       "      <th>industry</th>\n",
       "      <th>total_laid_off</th>\n",
       "      <th>percentage_laid_off</th>\n",
       "      <th>date</th>\n",
       "      <th>stage</th>\n",
       "      <th>country</th>\n",
       "      <th>funds_raised</th>\n",
       "    </tr>\n",
       "  </thead>\n",
       "  <tbody>\n",
       "    <tr>\n",
       "      <th>0</th>\n",
       "      <td>Atlassian</td>\n",
       "      <td>Sydney</td>\n",
       "      <td>Other</td>\n",
       "      <td>500.0</td>\n",
       "      <td>0.05</td>\n",
       "      <td>2023-03-06</td>\n",
       "      <td>Post-IPO</td>\n",
       "      <td>Australia</td>\n",
       "      <td>210.0</td>\n",
       "    </tr>\n",
       "    <tr>\n",
       "      <th>1</th>\n",
       "      <td>SiriusXM</td>\n",
       "      <td>New York City</td>\n",
       "      <td>Media</td>\n",
       "      <td>475.0</td>\n",
       "      <td>0.08</td>\n",
       "      <td>2023-03-06</td>\n",
       "      <td>Post-IPO</td>\n",
       "      <td>United States</td>\n",
       "      <td>525.0</td>\n",
       "    </tr>\n",
       "    <tr>\n",
       "      <th>2</th>\n",
       "      <td>Alerzo</td>\n",
       "      <td>Ibadan</td>\n",
       "      <td>Retail</td>\n",
       "      <td>400.0</td>\n",
       "      <td>NaN</td>\n",
       "      <td>2023-03-06</td>\n",
       "      <td>Series B</td>\n",
       "      <td>Nigeria</td>\n",
       "      <td>16.0</td>\n",
       "    </tr>\n",
       "    <tr>\n",
       "      <th>3</th>\n",
       "      <td>UpGrad</td>\n",
       "      <td>Mumbai</td>\n",
       "      <td>Education</td>\n",
       "      <td>120.0</td>\n",
       "      <td>NaN</td>\n",
       "      <td>2023-03-06</td>\n",
       "      <td>Unknown</td>\n",
       "      <td>India</td>\n",
       "      <td>631.0</td>\n",
       "    </tr>\n",
       "    <tr>\n",
       "      <th>4</th>\n",
       "      <td>Loft</td>\n",
       "      <td>Sao Paulo</td>\n",
       "      <td>Real Estate</td>\n",
       "      <td>340.0</td>\n",
       "      <td>0.15</td>\n",
       "      <td>2023-03-03</td>\n",
       "      <td>Unknown</td>\n",
       "      <td>Brazil</td>\n",
       "      <td>788.0</td>\n",
       "    </tr>\n",
       "  </tbody>\n",
       "</table>\n",
       "</div>"
      ],
      "text/plain": [
       "     company       location     industry  total_laid_off  percentage_laid_off  \\\n",
       "0  Atlassian         Sydney        Other           500.0                 0.05   \n",
       "1   SiriusXM  New York City        Media           475.0                 0.08   \n",
       "2     Alerzo         Ibadan       Retail           400.0                  NaN   \n",
       "3     UpGrad         Mumbai    Education           120.0                  NaN   \n",
       "4       Loft      Sao Paulo  Real Estate           340.0                 0.15   \n",
       "\n",
       "         date     stage        country  funds_raised  \n",
       "0  2023-03-06  Post-IPO      Australia         210.0  \n",
       "1  2023-03-06  Post-IPO  United States         525.0  \n",
       "2  2023-03-06  Series B        Nigeria          16.0  \n",
       "3  2023-03-06   Unknown          India         631.0  \n",
       "4  2023-03-03   Unknown         Brazil         788.0  "
      ]
     },
     "execution_count": 48,
     "metadata": {},
     "output_type": "execute_result"
    }
   ],
   "source": [
    "df_raw.head()"
   ]
  },
  {
   "cell_type": "markdown",
   "id": "149462c2",
   "metadata": {},
   "source": [
    ">**Análise de dados faltantes**\n",
    "\n",
    "\n",
    "- 739 dados faltantes em total_laid_off \n",
    "\n",
    "- 784 dados faltantes em percentage_laid_off\n",
    "\n",
    "- 209 dados faltantes em funds_raised\n",
    "\n",
    "- 1 dado faltante em industry\n",
    "\n",
    "- 1 dado faltante em date\n",
    "\n",
    "- 6 dados faltante em steage"
   ]
  },
  {
   "cell_type": "code",
   "execution_count": 49,
   "id": "5d870c34",
   "metadata": {},
   "outputs": [
    {
     "name": "stdout",
     "output_type": "stream",
     "text": [
      "<class 'pandas.core.frame.DataFrame'>\n",
      "RangeIndex: 2357 entries, 0 to 2356\n",
      "Data columns (total 9 columns):\n",
      " #   Column               Non-Null Count  Dtype  \n",
      "---  ------               --------------  -----  \n",
      " 0   company              2357 non-null   object \n",
      " 1   location             2357 non-null   object \n",
      " 2   industry             2356 non-null   object \n",
      " 3   total_laid_off       1618 non-null   float64\n",
      " 4   percentage_laid_off  1573 non-null   float64\n",
      " 5   date                 2356 non-null   object \n",
      " 6   stage                2351 non-null   object \n",
      " 7   country              2357 non-null   object \n",
      " 8   funds_raised         2148 non-null   float64\n",
      "dtypes: float64(3), object(6)\n",
      "memory usage: 165.9+ KB\n"
     ]
    }
   ],
   "source": [
    "df_raw.info()"
   ]
  },
  {
   "cell_type": "code",
   "execution_count": 51,
   "id": "0208c9ec",
   "metadata": {},
   "outputs": [
    {
     "data": {
      "text/plain": [
       "company                0\n",
       "location               0\n",
       "industry               0\n",
       "total_laid_off         0\n",
       "percentage_laid_off    0\n",
       "date                   0\n",
       "stage                  0\n",
       "country                0\n",
       "funds_raised           0\n",
       "dtype: int64"
      ]
     },
     "execution_count": 51,
     "metadata": {},
     "output_type": "execute_result"
    }
   ],
   "source": [
    "df_raw.isnull().sum()"
   ]
  },
  {
   "cell_type": "markdown",
   "id": "637226cc",
   "metadata": {},
   "source": [
    ">**Tratamento de dados faltantes**\n",
    "\n",
    "O preenchimento do faltante nesse caso com 0 não impactará em nossa análise, pois se comparado ao percentual também de demitidos, não há valor, uma vez que o dado faltante se trata de uma previsão de demissão e não das ocorridas."
   ]
  },
  {
   "cell_type": "code",
   "execution_count": 50,
   "id": "38dad497",
   "metadata": {},
   "outputs": [],
   "source": [
    "df_raw.fillna(0, inplace=True)"
   ]
  },
  {
   "cell_type": "code",
   "execution_count": 52,
   "id": "b2a4e41b",
   "metadata": {},
   "outputs": [
    {
     "data": {
      "text/html": [
       "<div>\n",
       "<style scoped>\n",
       "    .dataframe tbody tr th:only-of-type {\n",
       "        vertical-align: middle;\n",
       "    }\n",
       "\n",
       "    .dataframe tbody tr th {\n",
       "        vertical-align: top;\n",
       "    }\n",
       "\n",
       "    .dataframe thead th {\n",
       "        text-align: right;\n",
       "    }\n",
       "</style>\n",
       "<table border=\"1\" class=\"dataframe\">\n",
       "  <thead>\n",
       "    <tr style=\"text-align: right;\">\n",
       "      <th></th>\n",
       "      <th>company</th>\n",
       "      <th>location</th>\n",
       "      <th>industry</th>\n",
       "      <th>total_laid_off</th>\n",
       "      <th>percentage_laid_off</th>\n",
       "      <th>date</th>\n",
       "      <th>stage</th>\n",
       "      <th>country</th>\n",
       "      <th>funds_raised</th>\n",
       "    </tr>\n",
       "  </thead>\n",
       "  <tbody>\n",
       "    <tr>\n",
       "      <th>0</th>\n",
       "      <td>Atlassian</td>\n",
       "      <td>Sydney</td>\n",
       "      <td>Other</td>\n",
       "      <td>500.0</td>\n",
       "      <td>0.05</td>\n",
       "      <td>2023-03-06</td>\n",
       "      <td>Post-IPO</td>\n",
       "      <td>Australia</td>\n",
       "      <td>210.0</td>\n",
       "    </tr>\n",
       "    <tr>\n",
       "      <th>1</th>\n",
       "      <td>SiriusXM</td>\n",
       "      <td>New York City</td>\n",
       "      <td>Media</td>\n",
       "      <td>475.0</td>\n",
       "      <td>0.08</td>\n",
       "      <td>2023-03-06</td>\n",
       "      <td>Post-IPO</td>\n",
       "      <td>United States</td>\n",
       "      <td>525.0</td>\n",
       "    </tr>\n",
       "    <tr>\n",
       "      <th>2</th>\n",
       "      <td>Alerzo</td>\n",
       "      <td>Ibadan</td>\n",
       "      <td>Retail</td>\n",
       "      <td>400.0</td>\n",
       "      <td>0.00</td>\n",
       "      <td>2023-03-06</td>\n",
       "      <td>Series B</td>\n",
       "      <td>Nigeria</td>\n",
       "      <td>16.0</td>\n",
       "    </tr>\n",
       "    <tr>\n",
       "      <th>3</th>\n",
       "      <td>UpGrad</td>\n",
       "      <td>Mumbai</td>\n",
       "      <td>Education</td>\n",
       "      <td>120.0</td>\n",
       "      <td>0.00</td>\n",
       "      <td>2023-03-06</td>\n",
       "      <td>Unknown</td>\n",
       "      <td>India</td>\n",
       "      <td>631.0</td>\n",
       "    </tr>\n",
       "    <tr>\n",
       "      <th>4</th>\n",
       "      <td>Loft</td>\n",
       "      <td>Sao Paulo</td>\n",
       "      <td>Real Estate</td>\n",
       "      <td>340.0</td>\n",
       "      <td>0.15</td>\n",
       "      <td>2023-03-03</td>\n",
       "      <td>Unknown</td>\n",
       "      <td>Brazil</td>\n",
       "      <td>788.0</td>\n",
       "    </tr>\n",
       "  </tbody>\n",
       "</table>\n",
       "</div>"
      ],
      "text/plain": [
       "     company       location     industry  total_laid_off  percentage_laid_off  \\\n",
       "0  Atlassian         Sydney        Other           500.0                 0.05   \n",
       "1   SiriusXM  New York City        Media           475.0                 0.08   \n",
       "2     Alerzo         Ibadan       Retail           400.0                 0.00   \n",
       "3     UpGrad         Mumbai    Education           120.0                 0.00   \n",
       "4       Loft      Sao Paulo  Real Estate           340.0                 0.15   \n",
       "\n",
       "         date     stage        country  funds_raised  \n",
       "0  2023-03-06  Post-IPO      Australia         210.0  \n",
       "1  2023-03-06  Post-IPO  United States         525.0  \n",
       "2  2023-03-06  Series B        Nigeria          16.0  \n",
       "3  2023-03-06   Unknown          India         631.0  \n",
       "4  2023-03-03   Unknown         Brazil         788.0  "
      ]
     },
     "execution_count": 52,
     "metadata": {},
     "output_type": "execute_result"
    }
   ],
   "source": [
    "df_raw.head()"
   ]
  },
  {
   "cell_type": "markdown",
   "id": "a870424a",
   "metadata": {},
   "source": [
    "> **Análise e ordenação das colunas de interesse**\n",
    "\n",
    "Para uma melhor legibilidade, foi reordenado as colunas com a lógica do macro ao micro (Ano - Países - Áreas...) e transformado os dados 'Other' por 'Software/Services, uma vez que, as empresas dentro desse contexto melhor se encaixavam no cenário de software como no caso da Microsoft "
   ]
  },
  {
   "cell_type": "code",
   "execution_count": 12,
   "id": "59b89613",
   "metadata": {},
   "outputs": [],
   "source": [
    "# Selecionando colunas na ordem de interesse para novo df \n",
    "df = df_raw[['date', 'country', 'location', 'industry', 'company', 'total_laid_off', \n",
    "                 'percentage_laid_off', 'stage', 'funds_raised']]"
   ]
  },
  {
   "cell_type": "code",
   "execution_count": 13,
   "id": "194fb40e",
   "metadata": {},
   "outputs": [],
   "source": [
    "# Formatação das colunas para uma análise mais fluida, transformação da coluna date(object) para date(datetime) \n",
    "\n",
    "df.rename({'total_laid_off': 'total laid off', 'percentage_laid_off': '% laid off'}, axis=1, inplace=True)\n",
    "df['date'] = pd.to_datetime(df['date'])\n",
    "df['industry'] = df['industry'].replace('Other', 'Software/Services')\n",
    "df.columns = [col.title() for col in df.columns]"
   ]
  },
  {
   "cell_type": "code",
   "execution_count": 14,
   "id": "5f221cb2",
   "metadata": {},
   "outputs": [
    {
     "data": {
      "text/html": [
       "<div>\n",
       "<style scoped>\n",
       "    .dataframe tbody tr th:only-of-type {\n",
       "        vertical-align: middle;\n",
       "    }\n",
       "\n",
       "    .dataframe tbody tr th {\n",
       "        vertical-align: top;\n",
       "    }\n",
       "\n",
       "    .dataframe thead th {\n",
       "        text-align: right;\n",
       "    }\n",
       "</style>\n",
       "<table border=\"1\" class=\"dataframe\">\n",
       "  <thead>\n",
       "    <tr style=\"text-align: right;\">\n",
       "      <th></th>\n",
       "      <th>Date</th>\n",
       "      <th>Country</th>\n",
       "      <th>Location</th>\n",
       "      <th>Industry</th>\n",
       "      <th>Company</th>\n",
       "      <th>Total Laid Off</th>\n",
       "      <th>% Laid Off</th>\n",
       "      <th>Stage</th>\n",
       "      <th>Funds_Raised</th>\n",
       "    </tr>\n",
       "  </thead>\n",
       "  <tbody>\n",
       "    <tr>\n",
       "      <th>0</th>\n",
       "      <td>2023-03-06</td>\n",
       "      <td>Australia</td>\n",
       "      <td>Sydney</td>\n",
       "      <td>Software/Services</td>\n",
       "      <td>Atlassian</td>\n",
       "      <td>500.0</td>\n",
       "      <td>0.05</td>\n",
       "      <td>Post-IPO</td>\n",
       "      <td>210.0</td>\n",
       "    </tr>\n",
       "    <tr>\n",
       "      <th>1</th>\n",
       "      <td>2023-03-06</td>\n",
       "      <td>United States</td>\n",
       "      <td>New York City</td>\n",
       "      <td>Media</td>\n",
       "      <td>SiriusXM</td>\n",
       "      <td>475.0</td>\n",
       "      <td>0.08</td>\n",
       "      <td>Post-IPO</td>\n",
       "      <td>525.0</td>\n",
       "    </tr>\n",
       "    <tr>\n",
       "      <th>2</th>\n",
       "      <td>2023-03-06</td>\n",
       "      <td>Nigeria</td>\n",
       "      <td>Ibadan</td>\n",
       "      <td>Retail</td>\n",
       "      <td>Alerzo</td>\n",
       "      <td>400.0</td>\n",
       "      <td>0.00</td>\n",
       "      <td>Series B</td>\n",
       "      <td>16.0</td>\n",
       "    </tr>\n",
       "    <tr>\n",
       "      <th>3</th>\n",
       "      <td>2023-03-06</td>\n",
       "      <td>India</td>\n",
       "      <td>Mumbai</td>\n",
       "      <td>Education</td>\n",
       "      <td>UpGrad</td>\n",
       "      <td>120.0</td>\n",
       "      <td>0.00</td>\n",
       "      <td>Unknown</td>\n",
       "      <td>631.0</td>\n",
       "    </tr>\n",
       "    <tr>\n",
       "      <th>4</th>\n",
       "      <td>2023-03-03</td>\n",
       "      <td>Brazil</td>\n",
       "      <td>Sao Paulo</td>\n",
       "      <td>Real Estate</td>\n",
       "      <td>Loft</td>\n",
       "      <td>340.0</td>\n",
       "      <td>0.15</td>\n",
       "      <td>Unknown</td>\n",
       "      <td>788.0</td>\n",
       "    </tr>\n",
       "  </tbody>\n",
       "</table>\n",
       "</div>"
      ],
      "text/plain": [
       "        Date        Country       Location           Industry    Company  \\\n",
       "0 2023-03-06      Australia         Sydney  Software/Services  Atlassian   \n",
       "1 2023-03-06  United States  New York City              Media   SiriusXM   \n",
       "2 2023-03-06        Nigeria         Ibadan             Retail     Alerzo   \n",
       "3 2023-03-06          India         Mumbai          Education     UpGrad   \n",
       "4 2023-03-03         Brazil      Sao Paulo        Real Estate       Loft   \n",
       "\n",
       "   Total Laid Off  % Laid Off     Stage  Funds_Raised  \n",
       "0           500.0        0.05  Post-IPO         210.0  \n",
       "1           475.0        0.08  Post-IPO         525.0  \n",
       "2           400.0        0.00  Series B          16.0  \n",
       "3           120.0        0.00   Unknown         631.0  \n",
       "4           340.0        0.15   Unknown         788.0  "
      ]
     },
     "execution_count": 14,
     "metadata": {},
     "output_type": "execute_result"
    }
   ],
   "source": [
    "# novo df\n",
    "df.head(5)"
   ]
  },
  {
   "cell_type": "code",
   "execution_count": 15,
   "id": "04eaaf08",
   "metadata": {},
   "outputs": [
    {
     "data": {
      "text/plain": [
       "Date              datetime64[ns]\n",
       "Country                   object\n",
       "Location                  object\n",
       "Industry                  object\n",
       "Company                   object\n",
       "Total Laid Off           float64\n",
       "% Laid Off               float64\n",
       "Stage                     object\n",
       "Funds_Raised             float64\n",
       "dtype: object"
      ]
     },
     "execution_count": 15,
     "metadata": {},
     "output_type": "execute_result"
    }
   ],
   "source": [
    "df.dtypes"
   ]
  },
  {
   "cell_type": "markdown",
   "id": "4c542a26",
   "metadata": {},
   "source": [
    "---"
   ]
  },
  {
   "cell_type": "markdown",
   "id": "091de1bf",
   "metadata": {},
   "source": [
    "# Exploração dos dados"
   ]
  },
  {
   "cell_type": "markdown",
   "id": "fa266f3c",
   "metadata": {},
   "source": [
    "**1. Evolução de demissões desde o COVID-19**"
   ]
  },
  {
   "cell_type": "code",
   "execution_count": 63,
   "id": "ec386093",
   "metadata": {},
   "outputs": [],
   "source": [
    "layoff_year = df.groupby(df['Date'].dt.year, sort= False)['Total Laid Off'].sum().reset_index().loc[0:3]"
   ]
  },
  {
   "cell_type": "code",
   "execution_count": 64,
   "id": "af415631",
   "metadata": {
    "scrolled": true
   },
   "outputs": [
    {
     "data": {
      "text/html": [
       "<div>\n",
       "<style scoped>\n",
       "    .dataframe tbody tr th:only-of-type {\n",
       "        vertical-align: middle;\n",
       "    }\n",
       "\n",
       "    .dataframe tbody tr th {\n",
       "        vertical-align: top;\n",
       "    }\n",
       "\n",
       "    .dataframe thead th {\n",
       "        text-align: right;\n",
       "    }\n",
       "</style>\n",
       "<table border=\"1\" class=\"dataframe\">\n",
       "  <thead>\n",
       "    <tr style=\"text-align: right;\">\n",
       "      <th></th>\n",
       "      <th>Date</th>\n",
       "      <th>Total Laid Off</th>\n",
       "    </tr>\n",
       "  </thead>\n",
       "  <tbody>\n",
       "    <tr>\n",
       "      <th>0</th>\n",
       "      <td>2023</td>\n",
       "      <td>125677.0</td>\n",
       "    </tr>\n",
       "    <tr>\n",
       "      <th>1</th>\n",
       "      <td>2022</td>\n",
       "      <td>161411.0</td>\n",
       "    </tr>\n",
       "    <tr>\n",
       "      <th>2</th>\n",
       "      <td>2021</td>\n",
       "      <td>15823.0</td>\n",
       "    </tr>\n",
       "    <tr>\n",
       "      <th>3</th>\n",
       "      <td>2020</td>\n",
       "      <td>80998.0</td>\n",
       "    </tr>\n",
       "  </tbody>\n",
       "</table>\n",
       "</div>"
      ],
      "text/plain": [
       "   Date  Total Laid Off\n",
       "0  2023        125677.0\n",
       "1  2022        161411.0\n",
       "2  2021         15823.0\n",
       "3  2020         80998.0"
      ]
     },
     "execution_count": 64,
     "metadata": {},
     "output_type": "execute_result"
    }
   ],
   "source": [
    "layoff_year"
   ]
  },
  {
   "cell_type": "code",
   "execution_count": 65,
   "id": "9adbe445",
   "metadata": {},
   "outputs": [
    {
     "data": {
      "image/png": "[encoded data removed]",
      "text/plain": [
       "<Figure size 360x432 with 1 Axes>"
      ]
     },
     "metadata": {
      "needs_background": "light"
     },
     "output_type": "display_data"
    }
   ],
   "source": [
    "plt.figure(figsize=(5,6))\n",
    "\n",
    "plt.title('LAY OFF PER YEAR', color='#ff7c43', fontsize=20)\n",
    "y = sns.barplot(x='Date', y='Total Laid Off', data= layoff_year, palette='magma')\n",
    "sns.despine()\n",
    "y.set(ylim=(0, 180000))\n",
    "plt.xlabel('Year', size=18, color='#003f5c')\n",
    "plt.ylabel('Total Laid Off', size=18, color='#003f5c')\n",
    "\n",
    "plt.show()"
   ]
  },
  {
   "cell_type": "markdown",
   "id": "6a5d11b2",
   "metadata": {},
   "source": [
    "-----"
   ]
  },
  {
   "cell_type": "markdown",
   "id": "36208f3c",
   "metadata": {},
   "source": [
    "**2. Principais países impactados com número de demissões**"
   ]
  },
  {
   "cell_type": "code",
   "execution_count": 19,
   "id": "1dde2fb9",
   "metadata": {},
   "outputs": [],
   "source": [
    "layoff_country = df.groupby(['Country', df['Date'].dt.year])['Total Laid Off'].sum().reset_index()"
   ]
  },
  {
   "cell_type": "code",
   "execution_count": 20,
   "id": "3bd0d7d6",
   "metadata": {},
   "outputs": [],
   "source": [
    "def get_layoff_by_year(data, year, n=5):\n",
    "    return data.query(f'Date == {year}').nlargest(n, 'Total Laid Off')"
   ]
  },
  {
   "cell_type": "code",
   "execution_count": 21,
   "id": "a54d0010",
   "metadata": {},
   "outputs": [],
   "source": [
    "layoff_country_2020 = get_layoff_by_year(layoff_country, 2020)"
   ]
  },
  {
   "cell_type": "code",
   "execution_count": 22,
   "id": "78592c36",
   "metadata": {},
   "outputs": [],
   "source": [
    "layoff_country_2021 = get_layoff_by_year(layoff_country, 2021)"
   ]
  },
  {
   "cell_type": "code",
   "execution_count": 23,
   "id": "b6b573b0",
   "metadata": {},
   "outputs": [],
   "source": [
    "layoff_country_2022 = get_layoff_by_year(layoff_country, 2022)"
   ]
  },
  {
   "cell_type": "code",
   "execution_count": 69,
   "id": "9c4ca620",
   "metadata": {},
   "outputs": [
    {
     "data": {
      "text/html": [
       "<div>\n",
       "<style scoped>\n",
       "    .dataframe tbody tr th:only-of-type {\n",
       "        vertical-align: middle;\n",
       "    }\n",
       "\n",
       "    .dataframe tbody tr th {\n",
       "        vertical-align: top;\n",
       "    }\n",
       "\n",
       "    .dataframe thead th {\n",
       "        text-align: right;\n",
       "    }\n",
       "</style>\n",
       "<table border=\"1\" class=\"dataframe\">\n",
       "  <thead>\n",
       "    <tr style=\"text-align: right;\">\n",
       "      <th></th>\n",
       "      <th>Country</th>\n",
       "      <th>Date</th>\n",
       "      <th>Total Laid Off</th>\n",
       "    </tr>\n",
       "  </thead>\n",
       "  <tbody>\n",
       "    <tr>\n",
       "      <th>107</th>\n",
       "      <td>United States</td>\n",
       "      <td>2020</td>\n",
       "      <td>50385.0</td>\n",
       "    </tr>\n",
       "    <tr>\n",
       "      <th>45</th>\n",
       "      <td>India</td>\n",
       "      <td>2020</td>\n",
       "      <td>12932.0</td>\n",
       "    </tr>\n",
       "    <tr>\n",
       "      <th>68</th>\n",
       "      <td>Netherlands</td>\n",
       "      <td>2020</td>\n",
       "      <td>4600.0</td>\n",
       "    </tr>\n",
       "    <tr>\n",
       "      <th>8</th>\n",
       "      <td>Brazil</td>\n",
       "      <td>2020</td>\n",
       "      <td>3341.0</td>\n",
       "    </tr>\n",
       "    <tr>\n",
       "      <th>85</th>\n",
       "      <td>Singapore</td>\n",
       "      <td>2020</td>\n",
       "      <td>2361.0</td>\n",
       "    </tr>\n",
       "  </tbody>\n",
       "</table>\n",
       "</div>"
      ],
      "text/plain": [
       "           Country  Date  Total Laid Off\n",
       "107  United States  2020         50385.0\n",
       "45           India  2020         12932.0\n",
       "68     Netherlands  2020          4600.0\n",
       "8           Brazil  2020          3341.0\n",
       "85       Singapore  2020          2361.0"
      ]
     },
     "execution_count": 69,
     "metadata": {},
     "output_type": "execute_result"
    }
   ],
   "source": [
    "layoff_country_2023 = get_layoff_by_year(layoff_country, 2023)\n",
    "layoff_country_2020"
   ]
  },
  {
   "cell_type": "code",
   "execution_count": 25,
   "id": "855df73d",
   "metadata": {},
   "outputs": [],
   "source": [
    "df_years_lof = [layoff_country_2023, layoff_country_2022, layoff_country_2021, layoff_country_2020]\n",
    "years_title = ['2023', '2022', '2021', '2020']"
   ]
  },
  {
   "cell_type": "code",
   "execution_count": 26,
   "id": "36d09868",
   "metadata": {},
   "outputs": [
    {
     "data": {
      "image/png": "[encoded data removed]",
      "text/plain": [
       "<Figure size 864x576 with 4 Axes>"
      ]
     },
     "metadata": {
      "needs_background": "light"
     },
     "output_type": "display_data"
    }
   ],
   "source": [
    "fig, ax = plt.subplots(nrows= 2, ncols= 2, figsize= (12,8))\n",
    "fig.suptitle('MOST COUNTRIES IMPACTED BY LAY OFF PER YEAR', fontsize= 21, color='#ff7c43')\n",
    "\n",
    "\n",
    "for i, ax, title in zip(df_years_lof, ax.flat, years_title):\n",
    "    sns.barplot(x= 'Total Laid Off', y= 'Country', data=i, palette= 'magma', ax=ax)\n",
    "    sns.despine()\n",
    "    ax.set_title(title, size=15, color='#003f5c')\n",
    "    ax.set(xlim=(0, 115000))\n",
    "    ax.set_xlabel(\"Total Laid Off\", size= 12, color='#003f5c')\n",
    "    ax.set_ylabel(\"Country\", size= 12, color='#003f5c')\n",
    "    plt.tight_layout()\n",
    "\n",
    "    \n",
    "plt.show()"
   ]
  },
  {
   "cell_type": "markdown",
   "id": "93e0b168",
   "metadata": {},
   "source": [
    "-----"
   ]
  },
  {
   "cell_type": "markdown",
   "id": "d22c56e0",
   "metadata": {},
   "source": [
    "3.**Empresas que mais demitiram**"
   ]
  },
  {
   "cell_type": "code",
   "execution_count": 27,
   "id": "118c3a69",
   "metadata": {},
   "outputs": [],
   "source": [
    "top_company_lof = df.groupby(['Company', df['Date'].dt.year])['Total Laid Off'].sum().reset_index()"
   ]
  },
  {
   "cell_type": "code",
   "execution_count": 28,
   "id": "2ad3ba88",
   "metadata": {},
   "outputs": [],
   "source": [
    "def get_layoff_company(data, year, n=10):\n",
    "    return data.query(f'Date == {year}').nlargest(n, 'Total Laid Off')"
   ]
  },
  {
   "cell_type": "code",
   "execution_count": 73,
   "id": "bd8c9572",
   "metadata": {},
   "outputs": [],
   "source": [
    "layoff_company_2022 = get_layoff_company(top_company_lof, 2022)\n",
    "layoff_company_2023 = get_layoff_company(top_company_lof, 2023)"
   ]
  },
  {
   "cell_type": "code",
   "execution_count": 30,
   "id": "eef2d9c3",
   "metadata": {},
   "outputs": [],
   "source": [
    "df_company_lof = [layoff_company_2023, layoff_company_2022]\n",
    "years_title_01 = ['2023', '2022']"
   ]
  },
  {
   "cell_type": "code",
   "execution_count": 31,
   "id": "0e893509",
   "metadata": {},
   "outputs": [
    {
     "data": {
      "image/png": "[encoded data removed]",
      "text/plain": [
       "<Figure size 936x432 with 2 Axes>"
      ]
     },
     "metadata": {
      "needs_background": "light"
     },
     "output_type": "display_data"
    }
   ],
   "source": [
    "fig01, ax01 = plt.subplots(nrows= 1, ncols= 2, figsize= (13,6))\n",
    "fig01.suptitle('BIGGEST COMPANIES LAY OFFS', fontsize= 20, color='#ff7c43')\n",
    "\n",
    "\n",
    "for i01, ax01, title01 in zip(df_company_lof, ax01.flat, years_title_01):\n",
    "    sns.barplot(x= 'Total Laid Off', y= 'Company', data= i01, palette= 'magma', ax=ax01)\n",
    "    sns.despine()\n",
    "    ax01.set_title(title01, size=15, color='#003f5c')\n",
    "    ax01.set(xlim=(0, 15000))\n",
    "    ax01.set_xlabel(\"Total Laid Off\", size= 12, color='#003f5c')\n",
    "    ax01.set_ylabel(\"Company\", size= 12, color='#003f5c')\n",
    "    plt.tight_layout()\n",
    "\n",
    "    \n",
    "plt.show()"
   ]
  },
  {
   "cell_type": "markdown",
   "id": "8d5c11b7",
   "metadata": {},
   "source": [
    "------"
   ]
  },
  {
   "cell_type": "markdown",
   "id": "f59265f0",
   "metadata": {},
   "source": [
    "4.**Os setores mais impactados**"
   ]
  },
  {
   "cell_type": "code",
   "execution_count": 32,
   "id": "31c0616e",
   "metadata": {},
   "outputs": [],
   "source": [
    "top_sector_lof = df.groupby(['Industry', df['Date'].dt.year])['Total Laid Off'].sum().reset_index()"
   ]
  },
  {
   "cell_type": "code",
   "execution_count": 33,
   "id": "816c094a",
   "metadata": {},
   "outputs": [],
   "source": [
    "def get_layoff_sector(data, year, n=10, company='Company'):\n",
    "    return data.query(f'Date == {year}').nlargest(n, 'Total Laid Off')"
   ]
  },
  {
   "cell_type": "code",
   "execution_count": 76,
   "id": "be8ccbf5",
   "metadata": {},
   "outputs": [],
   "source": [
    "layoff_sector_2022 = get_layoff_sector(top_sector_lof, 2022)\n",
    "layoff_sector_2023 = get_layoff_sector(top_sector_lof, 2023)"
   ]
  },
  {
   "cell_type": "code",
   "execution_count": 35,
   "id": "2289f027",
   "metadata": {},
   "outputs": [],
   "source": [
    "df_sector_lof = [layoff_sector_2023, layoff_sector_2022]\n",
    "years_title_02 = ['2023', '2022']"
   ]
  },
  {
   "cell_type": "code",
   "execution_count": 36,
   "id": "c62afa94",
   "metadata": {},
   "outputs": [
    {
     "data": {
      "image/png": "[encoded data removed]",
      "text/plain": [
       "<Figure size 936x432 with 2 Axes>"
      ]
     },
     "metadata": {
      "needs_background": "light"
     },
     "output_type": "display_data"
    }
   ],
   "source": [
    "fig02, ax02 = plt.subplots(nrows= 1, ncols= 2, figsize= (13,6))\n",
    "fig02.suptitle('MAIN SECTORS LAY OFFS', fontsize= 20, color='#ff7c43')\n",
    "\n",
    "\n",
    "for i02, ax02, title02 in zip(df_sector_lof, ax02.flat, years_title_02):\n",
    "    sns.barplot(x= 'Total Laid Off', y= 'Industry', data= i02, palette= 'magma', ax=ax02)\n",
    "    sns.despine()\n",
    "    ax02.set_title(title02, size=15, color='#003f5c')\n",
    "    ax02.set(xlim=(0, 25000))\n",
    "    ax02.set_xlabel(\"Total Laid Off\", size= 12, color='#003f5c')\n",
    "    ax02.set_ylabel(\"Sector\", size= 12, color='#003f5c')\n",
    "    plt.tight_layout()\n",
    "\n",
    "    \n",
    "plt.show()"
   ]
  },
  {
   "cell_type": "markdown",
   "id": "6cf52ed8",
   "metadata": {},
   "source": [
    "----"
   ]
  },
  {
   "cell_type": "markdown",
   "id": "e2dd970e",
   "metadata": {},
   "source": [
    "**5. Visão no Brasil: quais estados, empresas e setores mais demitiram**"
   ]
  },
  {
   "cell_type": "code",
   "execution_count": 37,
   "id": "c1a0906a",
   "metadata": {},
   "outputs": [],
   "source": [
    "brazil_lof = df.groupby(['Country', 'Industry', 'Company', 'Location', df['Date'].dt.year])['Total Laid Off'].sum().reset_index()"
   ]
  },
  {
   "cell_type": "code",
   "execution_count": 38,
   "id": "5f86474f",
   "metadata": {},
   "outputs": [],
   "source": [
    "def get_brazil_lof_location(data, year, n=len(df['Date'])):\n",
    "    return data.query(f'Date == {year} & Country == \"Brazil\" ').groupby(['Location', 'Date']).sum().nlargest(n, 'Total Laid Off').reset_index()\n",
    "\n",
    "def get_brazil_lof_sector(data, year, n=len(df['Date'])):\n",
    "    return data.query(f'Date == {year} & Country == \"Brazil\"').groupby(['Industry', 'Date']).sum().nlargest(n, 'Total Laid Off').reset_index()\n",
    "\n",
    "def get_brazil_lof_company(data, year, n=len(df['Date'])):\n",
    "    return data.query(f'Date == {year} & Country == \"Brazil\"').groupby(['Company', 'Date']).sum().nlargest(n, 'Total Laid Off').reset_index()\n"
   ]
  },
  {
   "cell_type": "code",
   "execution_count": 39,
   "id": "971a039e",
   "metadata": {},
   "outputs": [],
   "source": [
    "brazil_lof_sector_2022 = get_brazil_lof_sector(brazil_lof, 2022)\n",
    "brazil_lof_sector_2023 = get_brazil_lof_sector(brazil_lof, 2023)"
   ]
  },
  {
   "cell_type": "code",
   "execution_count": 40,
   "id": "8646c0b5",
   "metadata": {
    "scrolled": true
   },
   "outputs": [],
   "source": [
    "brazil_lof_location_2022 = get_brazil_lof_location(brazil_lof, 2022)\n",
    "brazil_lof_location_2023 = get_brazil_lof_location(brazil_lof, 2023)"
   ]
  },
  {
   "cell_type": "code",
   "execution_count": 41,
   "id": "373cdf22",
   "metadata": {},
   "outputs": [],
   "source": [
    "brazil_lof_company_2022 = get_brazil_lof_company(brazil_lof, 2022)\n",
    "brazil_lof_company_2023 = get_brazil_lof_company(brazil_lof, 2023)"
   ]
  },
  {
   "cell_type": "code",
   "execution_count": 42,
   "id": "8cbbc1f9",
   "metadata": {
    "scrolled": true
   },
   "outputs": [],
   "source": [
    "brazil_lof_location = [brazil_lof_location_2023, brazil_lof_location_2022]\n",
    "brazil_lof_sector = [brazil_lof_sector_2023, brazil_lof_sector_2022]\n",
    "brazil_lof_company = [brazil_lof_company_2023, brazil_lof_company_2022]\n",
    "\n",
    "years_title_03 = ['2023', '2022']"
   ]
  },
  {
   "cell_type": "code",
   "execution_count": 43,
   "id": "bf0a143c",
   "metadata": {},
   "outputs": [
    {
     "data": {
      "image/png": "[encoded data removed]",
      "text/plain": [
       "<Figure size 1152x936 with 6 Axes>"
      ]
     },
     "metadata": {
      "needs_background": "light"
     },
     "output_type": "display_data"
    }
   ],
   "source": [
    "fig04, axes = plt.subplots(nrows=2, ncols=3, figsize=(16, 13))\n",
    "fig04.suptitle('BRAZIL OVERVIEW', fontsize= 25, color='green')\n",
    "\n",
    "\n",
    "for i, year in enumerate(years_title_03):\n",
    "    sns.barplot(x='Total Laid Off', y='Location',  data=brazil_lof_location[i], ax=axes[i, 0], palette= 'magma')\n",
    "    sns.barplot(x='Total Laid Off', y='Industry', data=brazil_lof_sector[i], ax=axes[i, 1], palette= 'magma')\n",
    "    sns.barplot(x='Total Laid Off', y='Company', data=brazil_lof_company[i], ax=axes[i, 2], palette= 'magma')\n",
    "\n",
    "    axes[i, 0].set_title('Lay Off by State' + year, color='#003f5c')\n",
    "    axes[i, 1].set_title('Lay Off by Sector' + year, color='#003f5c')\n",
    "    axes[i, 2].set_title('Lay Off by Company' + year, color='#003f5c')\n",
    "    \n",
    "    sns.despine()\n",
    "    \n",
    "plt.tight_layout()\n",
    "plt.show()"
   ]
  },
  {
   "cell_type": "markdown",
   "id": "56c529a9",
   "metadata": {},
   "source": [
    "A demanda gerada pela virtualização dos serviços durante a pandemia, poderá ter sido causa disso também junto a queda de demanda das grandes empresas da cadeia produtiva?"
   ]
  },
  {
   "cell_type": "code",
   "execution_count": null,
   "id": "4b9b427a",
   "metadata": {},
   "outputs": [],
   "source": []
  },
  {
   "cell_type": "code",
   "execution_count": null,
   "id": "59d5cf0c",
   "metadata": {},
   "outputs": [],
   "source": []
  },
  {
   "cell_type": "code",
   "execution_count": null,
   "id": "290f8f01",
   "metadata": {},
   "outputs": [],
   "source": []
  },
  {
   "cell_type": "code",
   "execution_count": null,
   "id": "2cc5a5f2",
   "metadata": {},
   "outputs": [],
   "source": []
  }
 ],
 "metadata": {
  "kernelspec": {
   "display_name": "Python 3 (ipykernel)",
   "language": "python",
   "name": "python3"
  },
  "language_info": {
   "codemirror_mode": {
    "name": "ipython",
    "version": 3
   },
   "file_extension": ".py",
   "mimetype": "text/x-python",
   "name": "python",
   "nbconvert_exporter": "python",
   "pygments_lexer": "ipython3",
   "version": "3.9.12"
  }
 },
 "nbformat": 4,
 "nbformat_minor": 5
}
